{
 "cells": [
  {
   "cell_type": "code",
   "execution_count": 2,
   "id": "f088c291-76d7-4a82-8348-868e400ec474",
   "metadata": {},
   "outputs": [],
   "source": [
    "import torch"
   ]
  },
  {
   "cell_type": "code",
   "execution_count": 3,
   "id": "de00ba54-71c2-4669-ba6a-3f6a5d325870",
   "metadata": {},
   "outputs": [],
   "source": [
    "x = torch.tensor(2.0)"
   ]
  },
  {
   "cell_type": "code",
   "execution_count": 18,
   "id": "26e0a2ef-3647-4aef-a4b1-163d8ef0e93d",
   "metadata": {},
   "outputs": [
    {
     "data": {
      "text/plain": [
       "'H:T:__abs__:__add__:__and__:__array__:__array_priority__:__array_wrap__:__bool__:__class__:__complex__:__contains__:__deepcopy__:__delattr__:__delitem__:__dict__:__dir__:__div__:__dlpack__:__dlpack_device__:__doc__:__eq__:__float__:__floordiv__:__format__:__ge__:__getattribute__:__getitem__:__gt__:__hash__:__iadd__:__iand__:__idiv__:__ifloordiv__:__ilshift__:__imod__:__imul__:__index__:__init__:__init_subclass__:__int__:__invert__:__ior__:__ipow__:__irshift__:__isub__:__iter__:__itruediv__:__ixor__:__le__:__len__:__long__:__lshift__:__lt__:__matmul__:__mod__:__module__:__mul__:__ne__:__neg__:__new__:__nonzero__:__or__:__pos__:__pow__:__radd__:__rand__:__rdiv__:__reduce__:__reduce_ex__:__repr__:__reversed__:__rfloordiv__:__rlshift__:__rmatmul__:__rmod__:__rmul__:__ror__:__rpow__:__rrshift__:__rshift__:__rsub__:__rtruediv__:__rxor__:__setattr__:__setitem__:__setstate__:__sizeof__:__str__:__sub__:__subclasshook__:__torch_dispatch__:__torch_function__:__truediv__:__weakref__:__xor__:_addmm_activation:_autocast_to_full_precision:_autocast_to_reduced_precision:_backward_hooks:_base:_cdata:_coalesced_:_conj:_conj_physical:_dimI:_dimV:_fix_weakref:_grad:_grad_fn:_has_symbolic_sizes_strides:_indices:_is_view:_is_zerotensor:_make_subclass:_make_wrapper_subclass:_neg_view:_nested_tensor_layer_norm:_nested_tensor_size:_nnz:_python_dispatch:_reduce_ex_internal:_storage:_to_dense:_update_names:_values:_version:abs:abs_:absolute:absolute_:acos:acos_:acosh:acosh_:add:add_:addbmm:addbmm_:addcdiv:addcdiv_:addcmul:addcmul_:addmm:addmm_:addmv:addmv_:addr:addr_:adjoint:align_as:align_to:all:allclose:amax:amin:aminmax:angle:any:apply_:arccos:arccos_:arccosh:arccosh_:arcsin:arcsin_:arcsinh:arcsinh_:arctan:arctan2:arctan2_:arctan_:arctanh:arctanh_:argmax:argmin:argsort:argwhere:as_strided:as_strided_:as_strided_scatter:as_subclass:asin:asin_:asinh:asinh_:atan:atan2:atan2_:atan_:atanh:atanh_:backward:baddbmm:baddbmm_:bernoulli:bernoulli_:bfloat16:bincount:bitwise_and:bitwise_and_:bitwise_left_shift:bitwise_left_shift_:bitwise_not:bitwise_not_:bitwise_or:bitwise_or_:bitwise_right_shift:bitwise_right_shift_:bitwise_xor:bitwise_xor_:bmm:bool:broadcast_to:byte:cauchy_:ccol_indices:cdouble:ceil:ceil_:cfloat:chalf:char:cholesky:cholesky_inverse:cholesky_solve:chunk:clamp:clamp_:clamp_max:clamp_max_:clamp_min:clamp_min_:clip:clip_:clone:coalesce:col_indices:conj:conj_physical:conj_physical_:contiguous:copy_:copysign:copysign_:corrcoef:cos:cos_:cosh:cosh_:count_nonzero:cov:cpu:cross:crow_indices:cuda:cummax:cummin:cumprod:cumprod_:cumsum:cumsum_:data:data_ptr:deg2rad:deg2rad_:dense_dim:dequantize:det:detach:detach_:device:diag:diag_embed:diagflat:diagonal:diagonal_scatter:diff:digamma:digamma_:dim:dist:div:div_:divide:divide_:dot:double:dsplit:dtype:eig:element_size:eq:eq_:equal:erf:erf_:erfc:erfc_:erfinv:erfinv_:exp:exp2:exp2_:exp_:expand:expand_as:expm1:expm1_:exponential_:fill_:fill_diagonal_:fix:fix_:flatten:flip:fliplr:flipud:float:float_power:float_power_:floor:floor_:floor_divide:floor_divide_:fmax:fmin:fmod:fmod_:frac:frac_:frexp:gather:gcd:gcd_:ge:ge_:geometric_:geqrf:ger:get_device:grad:grad_fn:greater:greater_:greater_equal:greater_equal_:gt:gt_:half:hardshrink:has_names:heaviside:heaviside_:histc:histogram:hsplit:hypot:hypot_:i0:i0_:igamma:igamma_:igammac:igammac_:imag:index_add:index_add_:index_copy:index_copy_:index_fill:index_fill_:index_put:index_put_:index_reduce:index_reduce_:index_select:indices:inner:int:int_repr:inverse:ipu:is_coalesced:is_complex:is_conj:is_contiguous:is_cpu:is_cuda:is_distributed:is_floating_point:is_inference:is_ipu:is_leaf:is_meta:is_mkldnn:is_mps:is_neg:is_nested:is_nonzero:is_ort:is_pinned:is_quantized:is_same_size:is_set_to:is_shared:is_signed:is_sparse:is_sparse_csr:is_vulkan:is_xpu:isclose:isfinite:isinf:isnan:isneginf:isposinf:isreal:istft:item:kron:kthvalue:layout:lcm:lcm_:ldexp:ldexp_:le:le_:lerp:lerp_:less:less_:less_equal:less_equal_:lgamma:lgamma_:log:log10:log10_:log1p:log1p_:log2:log2_:log_:log_normal_:log_softmax:logaddexp:logaddexp2:logcumsumexp:logdet:logical_and:logical_and_:logical_not:logical_not_:logical_or:logical_or_:logical_xor:logical_xor_:logit:logit_:logsumexp:long:lstsq:lt:lt_:lu:lu_solve:mH:mT:map2_:map_:masked_fill:masked_fill_:masked_scatter:masked_scatter_:masked_select:matmul:matrix_exp:matrix_power:max:maximum:mean:median:min:minimum:mm:mode:moveaxis:movedim:msort:mul:mul_:multinomial:multiply:multiply_:mv:mvlgamma:mvlgamma_:name:names:nan_to_num:nan_to_num_:nanmean:nanmedian:nanquantile:nansum:narrow:narrow_copy:ndim:ndimension:ne:ne_:neg:neg_:negative:negative_:nelement:new:new_empty:new_empty_strided:new_full:new_ones:new_tensor:new_zeros:nextafter:nextafter_:nonzero:norm:normal_:not_equal:not_equal_:numel:numpy:orgqr:ormqr:outer:output_nr:permute:pin_memory:pinverse:polygamma:polygamma_:positive:pow:pow_:prelu:prod:put:put_:q_per_channel_axis:q_per_channel_scales:q_per_channel_zero_points:q_scale:q_zero_point:qr:qscheme:quantile:rad2deg:rad2deg_:random_:ravel:real:reciprocal:reciprocal_:record_stream:refine_names:register_hook:reinforce:relu:relu_:remainder:remainder_:rename:rename_:renorm:renorm_:repeat:repeat_interleave:requires_grad:requires_grad_:reshape:reshape_as:resize:resize_:resize_as:resize_as_:resize_as_sparse_:resolve_conj:resolve_neg:retain_grad:retains_grad:roll:rot90:round:round_:row_indices:rsqrt:rsqrt_:scatter:scatter_:scatter_add:scatter_add_:scatter_reduce:scatter_reduce_:select:select_scatter:set_:sgn:sgn_:shape:share_memory_:short:sigmoid:sigmoid_:sign:sign_:signbit:sin:sin_:sinc:sinc_:sinh:sinh_:size:slice_scatter:slogdet:smm:softmax:solve:sort:sparse_dim:sparse_mask:sparse_resize_:sparse_resize_and_clear_:split:split_with_sizes:sqrt:sqrt_:square:square_:squeeze:squeeze_:sspaddmm:std:stft:storage:storage_offset:storage_type:stride:sub:sub_:subtract:subtract_:sum:sum_to_size:svd:swapaxes:swapaxes_:swapdims:swapdims_:symeig:t:t_:take:take_along_dim:tan:tan_:tanh:tanh_:tensor_split:tile:to:to_dense:to_mkldnn:to_padded_tensor:to_sparse:to_sparse_bsc:to_sparse_bsr:to_sparse_coo:to_sparse_csc:to_sparse_csr:tolist:topk:trace:transpose:transpose_:triangular_solve:tril:tril_:triu:triu_:true_divide:true_divide_:trunc:trunc_:type:type_as:unbind:unflatten:unfold:uniform_:unique:unique_consecutive:unsafe_chunk:unsafe_split:unsafe_split_with_sizes:unsqueeze:unsqueeze_:values:var:vdot:view:view_as:vsplit:where:xlogy:xlogy_:xpu:zero_'"
      ]
     },
     "execution_count": 18,
     "metadata": {},
     "output_type": "execute_result"
    }
   ],
   "source": [
    "':'.join(dir(x))"
   ]
  },
  {
   "cell_type": "code",
   "execution_count": 8,
   "id": "d9af3093-0b90-463f-8853-7273c4dd3e46",
   "metadata": {},
   "outputs": [
    {
     "data": {
      "text/plain": [
       "(tensor(2.), None, None, True, False)"
      ]
     },
     "execution_count": 8,
     "metadata": {},
     "output_type": "execute_result"
    }
   ],
   "source": [
    "x.data, x.grad, x.grad_fn, x.is_leaf, x.requires_grad"
   ]
  },
  {
   "cell_type": "code",
   "execution_count": 20,
   "id": "652cc4bd-a939-4f05-9550-0242ab172ef6",
   "metadata": {},
   "outputs": [],
   "source": [
    "def pt(*tensors):\n",
    "    for tensor in tensors:\n",
    "        print(f'data={tensor.data}; grad={tensor.grad}; grad_fn={tensor.grad_fn}; is_leaf={tensor.is_leaf}; requires_grad={tensor.requires_grad}')"
   ]
  },
  {
   "cell_type": "code",
   "execution_count": 29,
   "id": "d6f3ce45-fdfd-4303-82c8-ba24870727d1",
   "metadata": {},
   "outputs": [
    {
     "name": "stdout",
     "output_type": "stream",
     "text": [
      "data=6.0; grad=None; grad_fn=<MulBackward0 object at 0x7fb37a25fcd0>; is_leaf=False; requires_grad=True\n",
      "data=2.0; grad=3.0; grad_fn=None; is_leaf=True; requires_grad=True\n"
     ]
    }
   ],
   "source": [
    "(x, y) = (torch.tensor(2.0), torch.tensor(3.0))\n",
    "x.requires_grad = True\n",
    "z = x * y\n",
    "z.retain_grad()\n",
    "pt(z)\n",
    "z.backward()\n",
    "pt(x)"
   ]
  }
 ],
 "metadata": {
  "kernelspec": {
   "display_name": "Python 3 (ipykernel)",
   "language": "python",
   "name": "python3"
  },
  "language_info": {
   "codemirror_mode": {
    "name": "ipython",
    "version": 3
   },
   "file_extension": ".py",
   "mimetype": "text/x-python",
   "name": "python",
   "nbconvert_exporter": "python",
   "pygments_lexer": "ipython3",
   "version": "3.10.6"
  }
 },
 "nbformat": 4,
 "nbformat_minor": 5
}
