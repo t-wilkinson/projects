{
 "cells": [
  {
   "cell_type": "code",
   "execution_count": 8,
   "metadata": {},
   "outputs": [],
   "source": [
    "import time"
   ]
  },
  {
   "cell_type": "code",
   "execution_count": 9,
   "metadata": {},
   "outputs": [
    {
     "data": {
      "text/plain": [
       "3"
      ]
     },
     "execution_count": 9,
     "metadata": {},
     "output_type": "execute_result"
    }
   ],
   "source": [
    "def deco(func):\n",
    "    return func\n",
    "\n",
    "@deco  # callable\n",
    "# return value callable\n",
    "def add(a, b):  # callable\n",
    "    return a + b\n",
    "\n",
    "add(1, 2)"
   ]
  },
  {
   "cell_type": "code",
   "execution_count": 7,
   "metadata": {},
   "outputs": [
    {
     "data": {
      "text/plain": [
       "3"
      ]
     },
     "execution_count": 7,
     "metadata": {},
     "output_type": "execute_result"
    }
   ],
   "source": [
    "def deco(func):\n",
    "    return func\n",
    "\n",
    "def add(a, b):\n",
    "    return a + b\n",
    "\n",
    "add = deco(add)\n",
    "add(1, 2)"
   ]
  },
  {
   "cell_type": "code",
   "execution_count": 1,
   "metadata": {},
   "outputs": [],
   "source": [
    "def mydeco(func):  # runs once\n",
    "    def wrapper(*args, **kwargs):          # runs whenever called\n",
    "        return f'{func(*args, **kwargs)}'  # runs whenever called\n",
    "    return wrapper  # runs once"
   ]
  },
  {
   "cell_type": "code",
   "execution_count": 3,
   "metadata": {},
   "outputs": [
    {
     "data": {
      "text/plain": [
       "'range(1, 2)'"
      ]
     },
     "execution_count": 3,
     "metadata": {},
     "output_type": "execute_result"
    }
   ],
   "source": [
    "mydeco(range)(1, 2)"
   ]
  },
  {
   "cell_type": "code",
   "execution_count": 9,
   "metadata": {},
   "outputs": [],
   "source": [
    "def logtime(func):\n",
    "    def wrapper(*args, **kwargs):\n",
    "        start_time = time.time()\n",
    "        result = func(*args, **kwargs)\n",
    "        total_time = time.time() - start_time\n",
    "        with open('log.txt', 'a') as file:\n",
    "            file.write(f'\\t{func.__name__}\\t:\\t{total_time}\\n')\n",
    "        return result\n",
    "    return wrapper"
   ]
  },
  {
   "cell_type": "code",
   "execution_count": 10,
   "metadata": {},
   "outputs": [],
   "source": [
    "@logtime\n",
    "def loop(n):\n",
    "    for i in range(n):\n",
    "        pass\n",
    "\n",
    "loop(100000)"
   ]
  },
  {
   "cell_type": "code",
   "execution_count": 34,
   "metadata": {},
   "outputs": [],
   "source": [
    "def once_per_minute(func):\n",
    "    last_invoked = 0\n",
    "    \n",
    "    def wrapper(*args, **kwargs):\n",
    "        nonlocal last_invoked\n",
    "        elapsed_time = time.time() - last_invoked\n",
    "        if elapsed_time < 60:\n",
    "            raise CalledTooOften(f'No')\n",
    "        last_invoked = time.time()\n",
    "        \n",
    "        return func(*args, **kwargs)\n",
    "    return wrapper"
   ]
  },
  {
   "cell_type": "code",
   "execution_count": 43,
   "metadata": {},
   "outputs": [
    {
     "data": {
      "text/plain": [
       "True"
      ]
     },
     "execution_count": 43,
     "metadata": {},
     "output_type": "execute_result"
    }
   ],
   "source": [
    "def once_per_n(n):    # run once | callable\n",
    "    def middle(func): # run once | callable\n",
    "        last_invoked = 0\n",
    "        def wrapper(*args, **kwargs):\n",
    "            nonlocal last_invoked\n",
    "            if time.time() - last_invoked < n:\n",
    "                raise CalledTooEarly('No')\n",
    "            \n",
    "            last_invoked = time.time()\n",
    "            return func(*args, **kwargs)\n",
    "        global x\n",
    "        x = wrapper\n",
    "        return wrapper    # callable\n",
    "    return middle         # callable\n",
    "\n",
    "@once_per_n(5)\n",
    "def add(a, b):\n",
    "    return a + b\n",
    "\n",
    "def add(a, b):   # callable\n",
    "    return a + b\n",
    "add = once_per_n(5)(add)\n",
    "add is x\n",
    "# add(1, 2)\n",
    "# return value is set to add"
   ]
  },
  {
   "cell_type": "code",
   "execution_count": 16,
   "metadata": {},
   "outputs": [
    {
     "name": "stdout",
     "output_type": "stream",
     "text": [
      "Caching value for multiply(0, 9)\n",
      "Using cached values for multiply\n",
      "Caching value for multiply(1, 9)\n",
      "Using cached values for multiply\n",
      "Caching value for multiply(2, 9)\n",
      "Using cached values for multiply\n",
      "Caching value for multiply(3, 9)\n",
      "Using cached values for multiply\n",
      "Caching value for multiply(4, 9)\n",
      "Using cached values for multiply\n"
     ]
    }
   ],
   "source": [
    "def memoize(func):\n",
    "    cache = {}\n",
    "    def wrapper(*args, **kwargs):\n",
    "        if args not in cache:\n",
    "            print(f'Caching value for {func.__name__}{args}')\n",
    "            cache[args] = func(*args, **kwargs)\n",
    "        else:\n",
    "            print(f'Using cached values for {func.__name__}')\n",
    "        return cache[args]\n",
    "    return wrapper\n",
    "\n",
    "@memoize\n",
    "def multiply(a, b):\n",
    "    return a * b\n",
    "\n",
    "for a in range(5):\n",
    "    for b in range(2):\n",
    "        multiply(a, 9)"
   ]
  },
  {
   "cell_type": "code",
   "execution_count": 11,
   "metadata": {},
   "outputs": [
    {
     "name": "stdout",
     "output_type": "stream",
     "text": [
      "Caching value for multiply(0, 9)\n",
      "Using cached values for multiply(0, 9)\n",
      "Caching value for multiply(1, 9)\n",
      "Using cached values for multiply(1, 9)\n",
      "Caching value for multiply(2, 9)\n",
      "Using cached values for multiply(2, 9)\n",
      "Caching value for multiply(3, 9)\n",
      "Using cached values for multiply(3, 9)\n",
      "Caching value for multiply(4, 9)\n",
      "Using cached values for multiply(4, 9)\n"
     ]
    }
   ],
   "source": [
    "import pickle\n",
    "def memoize(func):\n",
    "    cache = {}\n",
    "    def wrapper(*args, **kwargs):\n",
    "        t = (pickle.dumps(args), pickle.dumps(kwargs))\n",
    "        if t not in cache:\n",
    "            print(f'Caching value for {func.__name__}{args}')\n",
    "            cache[t] = func(*args, **kwargs)\n",
    "        else:\n",
    "            print(f'Using cached values for {func.__name__}{args}')\n",
    "        return cache[t]\n",
    "    return wrapper\n",
    "\n",
    "@memoize\n",
    "def multiply(a, b):\n",
    "    return a * b\n",
    "\n",
    "for a in range(5):\n",
    "    for b in range(2):\n",
    "        multiply(a, 9)"
   ]
  },
  {
   "cell_type": "code",
   "execution_count": 30,
   "metadata": {},
   "outputs": [],
   "source": [
    "def outer(n):\n",
    "    def wrapping(func):\n",
    "        def inner(*args, **kwargs):\n",
    "            return func(*args, **kwargs) * n\n",
    "        return inner\n",
    "    return wrapping\n",
    "\n",
    "@outer(10)\n",
    "def multiplyBy(a, b):\n",
    "    return a * b"
   ]
  },
  {
   "cell_type": "code",
   "execution_count": 31,
   "metadata": {},
   "outputs": [
    {
     "data": {
      "text/plain": [
       "200"
      ]
     },
     "execution_count": 31,
     "metadata": {},
     "output_type": "execute_result"
    }
   ],
   "source": [
    "multiplyBy(5, 4)"
   ]
  },
  {
   "cell_type": "code",
   "execution_count": 37,
   "metadata": {},
   "outputs": [
    {
     "ename": "SyntaxError",
     "evalue": "invalid syntax (<ipython-input-37-092c79f5ec93>, line 1)",
     "output_type": "error",
     "traceback": [
      "\u001b[0;36m  File \u001b[0;32m\"<ipython-input-37-092c79f5ec93>\"\u001b[0;36m, line \u001b[0;32m1\u001b[0m\n\u001b[0;31m    x = **{a: 'b'}\u001b[0m\n\u001b[0m         ^\u001b[0m\n\u001b[0;31mSyntaxError\u001b[0m\u001b[0;31m:\u001b[0m invalid syntax\n"
     ]
    }
   ],
   "source": [
    "x = **{a: 'b'}"
   ]
  },
  {
   "cell_type": "code",
   "execution_count": 33,
   "metadata": {},
   "outputs": [
    {
     "name": "stdout",
     "output_type": "stream",
     "text": [
      "Help on built-in function format in module builtins:\n",
      "\n",
      "format(value, format_spec='', /)\n",
      "    Return value.__format__(format_spec)\n",
      "    \n",
      "    format_spec defaults to the empty string.\n",
      "    See the Format Specification Mini-Language section of help('FORMATTING') for\n",
      "    details.\n",
      "\n"
     ]
    }
   ],
   "source": [
    "help(format)"
   ]
  },
  {
   "cell_type": "code",
   "execution_count": null,
   "metadata": {},
   "outputs": [],
   "source": []
  }
 ],
 "metadata": {
  "kernelspec": {
   "display_name": "Python 3",
   "language": "python",
   "name": "python3"
  },
  "language_info": {
   "codemirror_mode": {
    "name": "ipython",
    "version": 3
   },
   "file_extension": ".py",
   "mimetype": "text/x-python",
   "name": "python",
   "nbconvert_exporter": "python",
   "pygments_lexer": "ipython3",
   "version": "3.8.1"
  }
 },
 "nbformat": 4,
 "nbformat_minor": 2
}
