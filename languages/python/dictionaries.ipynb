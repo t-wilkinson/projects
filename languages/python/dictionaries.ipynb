{
 "cells": [
  {
   "cell_type": "code",
   "execution_count": 21,
   "metadata": {},
   "outputs": [
    {
     "data": {
      "text/plain": [
       "{'value': 10}"
      ]
     },
     "execution_count": 21,
     "metadata": {},
     "output_type": "execute_result"
    }
   ],
   "source": [
    "class Test:\n",
    "    def __init__(self, value):\n",
    "        self.value = value\n",
    "        \n",
    "t = Test(10)\n",
    "# vars(t)\n",
    "Test.default = 1000\n",
    "Test.__dict__\n",
    "t.__dict__"
   ]
  },
  {
   "cell_type": "code",
   "execution_count": 5,
   "metadata": {},
   "outputs": [],
   "source": [
    "x = {'0': v for v in range(1000)}\n",
    "y = {'1': v for v in range(1000)}"
   ]
  },
  {
   "cell_type": "code",
   "execution_count": 7,
   "metadata": {},
   "outputs": [
    {
     "name": "stdout",
     "output_type": "stream",
     "text": [
      "117 ns ± 0.756 ns per loop (mean ± std. dev. of 7 runs, 10000000 loops each)\n",
      "130 ns ± 0.847 ns per loop (mean ± std. dev. of 7 runs, 10000000 loops each)\n",
      "232 ns ± 2.02 ns per loop (mean ± std. dev. of 7 runs, 1000000 loops each)\n",
      "600 ns ± 2.45 ns per loop (mean ± std. dev. of 7 runs, 1000000 loops each)\n"
     ]
    }
   ],
   "source": [
    "%timeit {**x, **y}\n",
    "# %time dict(x.items() + y.items())\n",
    "%timeit x.update(y)\n",
    "%timeit dict(x, **y)\n",
    "%timeit {k: v for d in (x, y) for k, v in d.items()}"
   ]
  },
  {
   "cell_type": "code",
   "execution_count": 74,
   "metadata": {},
   "outputs": [
    {
     "name": "stdout",
     "output_type": "stream",
     "text": [
      "4 <class 'int'>\n",
      "(3, 5) <class 'tuple'>\n"
     ]
    },
    {
     "data": {
      "text/plain": [
       "'yes'"
      ]
     },
     "execution_count": 74,
     "metadata": {},
     "output_type": "execute_result"
    }
   ],
   "source": [
    "class Test:\n",
    "    def __init__(self):\n",
    "        self.__dict__ = {x: [] for x in range(100)}\n",
    "    def __getitem__(self, key):\n",
    "        print(key, type(key))\n",
    "    def __setitem__(self, key, item):\n",
    "        print(key, type(key))\n",
    "    def __add__(self, other):\n",
    "        return 'yes'\n",
    "        \n",
    "t = Test()\n",
    "t[4]\n",
    "t[3, 5] = [5]\n",
    "slice(0, 1, None).start\n",
    "t + 3"
   ]
  },
  {
   "cell_type": "code",
   "execution_count": 37,
   "metadata": {},
   "outputs": [
    {
     "name": "stdout",
     "output_type": "stream",
     "text": [
      "0\n",
      "1\n",
      "2\n"
     ]
    }
   ],
   "source": [
    "for y in None or [0, 1, 2]:\n",
    "    print(y)"
   ]
  },
  {
   "cell_type": "code",
   "execution_count": 38,
   "metadata": {},
   "outputs": [
    {
     "name": "stdout",
     "output_type": "stream",
     "text": [
      "796 ns ± 8.18 ns per loop (mean ± std. dev. of 7 runs, 1000000 loops each)\n",
      "1 µs ± 7.69 ns per loop (mean ± std. dev. of 7 runs, 1000000 loops each)\n"
     ]
    }
   ],
   "source": [
    "%timeit x = list(range(100)).pop(0)\n",
    "%timeit y = list(range(100))[1:]"
   ]
  },
  {
   "cell_type": "code",
   "execution_count": 59,
   "metadata": {},
   "outputs": [],
   "source": [
    "def wrap(*keys, wrapper):\n",
    "    result = {}\n",
    "    for key in keys:\n",
    "        result[key] = wrapper('10 + 10')\n",
    "    return result\n",
    "        \n",
    "x = wrap('bob', 'bill', 'chad', wrapper=exec)\n",
    "y = lambda z: x['bob']"
   ]
  },
  {
   "cell_type": "code",
   "execution_count": 69,
   "metadata": {},
   "outputs": [
    {
     "data": {
      "text/plain": [
       "<function __main__.<lambda>(x)>"
      ]
     },
     "execution_count": 69,
     "metadata": {},
     "output_type": "execute_result"
    }
   ],
   "source": [
    "x = 'lambda x:' + 'x * 3'\n",
    "eval(x)"
   ]
  },
  {
   "cell_type": "code",
   "execution_count": 75,
   "metadata": {},
   "outputs": [
    {
     "data": {
      "text/plain": [
       "9"
      ]
     },
     "execution_count": 75,
     "metadata": {},
     "output_type": "execute_result"
    }
   ],
   "source": [
    "func = 'x * 3'\n",
    "x = lambda y: eval('lambda x:' + y)\n",
    "test = x(func)\n",
    "test(3)"
   ]
  },
  {
   "cell_type": "code",
   "execution_count": null,
   "metadata": {},
   "outputs": [],
   "source": [
    "x = {'yes': 3}\n",
    "x['yes'] = x"
   ]
  }
 ],
 "metadata": {
  "kernelspec": {
   "display_name": "Python 3",
   "language": "python",
   "name": "python3"
  },
  "language_info": {
   "codemirror_mode": {
    "name": "ipython",
    "version": 3
   },
   "file_extension": ".py",
   "mimetype": "text/x-python",
   "name": "python",
   "nbconvert_exporter": "python",
   "pygments_lexer": "ipython3",
   "version": "3.8.1"
  }
 },
 "nbformat": 4,
 "nbformat_minor": 2
}
