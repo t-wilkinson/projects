{
 "cells": [
  {
   "cell_type": "code",
   "execution_count": 4,
   "metadata": {},
   "outputs": [],
   "source": [
    "class Square(object):\n",
    "    def __init__(self, side):\n",
    "        self.side = side\n",
    "    def aget(self):\n",
    "        return self.side ** 2\n",
    "    def aset(self, value):\n",
    "        print('Cannot set value.')\n",
    "    def adel(self):\n",
    "        print('Cannot del value.')\n",
    "    area = property(aget, aset, adel, doc='Area of square')"
   ]
  },
  {
   "cell_type": "code",
   "execution_count": 5,
   "metadata": {},
   "outputs": [],
   "source": [
    "square = Square(4)"
   ]
  },
  {
   "cell_type": "code",
   "execution_count": 6,
   "metadata": {},
   "outputs": [
    {
     "data": {
      "text/plain": [
       "16"
      ]
     },
     "execution_count": 6,
     "metadata": {},
     "output_type": "execute_result"
    }
   ],
   "source": [
    "square.area"
   ]
  },
  {
   "cell_type": "code",
   "execution_count": 26,
   "metadata": {},
   "outputs": [],
   "source": [
    "# Inmmutable value\n",
    "class Square(object):\n",
    "    def __init__(self, side):\n",
    "        self.side = side\n",
    "    @property\n",
    "    def area(self):\n",
    "        ''' Calculate area'''\n",
    "        return self.side * self.side\n",
    "    @area.setter\n",
    "    def area(self, value):\n",
    "        print('cannot set value')\n",
    "    @area.deleter\n",
    "    def area(self):\n",
    "        print('cannot delete')"
   ]
  },
  {
   "cell_type": "code",
   "execution_count": 21,
   "metadata": {},
   "outputs": [
    {
     "name": "stdout",
     "output_type": "stream",
     "text": [
      "{'func': <function hello at 0x7f462461bae8>}\n"
     ]
    },
    {
     "data": {
      "text/plain": [
       "(('hey', 8), {})"
      ]
     },
     "execution_count": 21,
     "metadata": {},
     "output_type": "execute_result"
    }
   ],
   "source": [
    "def wrapper(func):\n",
    "    print(locals())\n",
    "    def inner(*args, **kwargs):\n",
    "        result = func(*args, **kwargs)\n",
    "        return result\n",
    "    return inner\n",
    "\n",
    "@wrapper\n",
    "def hello(*args, **kwargs):\n",
    "    return args, kwargs\n",
    "\n",
    "hello('hey', 8)"
   ]
  },
  {
   "cell_type": "code",
   "execution_count": 27,
   "metadata": {},
   "outputs": [],
   "source": [
    "def nested_property(func):\n",
    "    \"\"\" Simpler function definition \"\"\"\n",
    "    names = func()\n",
    "    names['doc'] = func.__doc__\n",
    "    return property(**names)\n",
    "    \n",
    "class Square(object):\n",
    "    def __init__(self, side):\n",
    "        self.side = side\n",
    "        \n",
    "    @nested_property\n",
    "    def area():\n",
    "        ''' property for area '''\n",
    "        def fget(self):\n",
    "            return self.side * self.side\n",
    "        def fset(self, value):\n",
    "            print('cannot set value.')\n",
    "        def fdel(self):\n",
    "            print('cannot del value')\n",
    "            \n",
    "        return locals()"
   ]
  },
  {
   "cell_type": "code",
   "execution_count": 32,
   "metadata": {},
   "outputs": [
    {
     "data": {
      "text/plain": [
       "16"
      ]
     },
     "execution_count": 32,
     "metadata": {},
     "output_type": "execute_result"
    }
   ],
   "source": [
    "s = Square(4)\n",
    "s.area"
   ]
  },
  {
   "cell_type": "code",
   "execution_count": 33,
   "metadata": {},
   "outputs": [],
   "source": [
    "class DataDescriptor(object):\n",
    "    def __init__(self):\n",
    "        self.value = 0\n",
    "    def __get__(self, instance, cls):\n",
    "        print('__get__')\n",
    "        return self.value\n",
    "    def __set__(self, instace, value):\n",
    "        print('__set__')\n",
    "        try:\n",
    "            self.value = value.upper()\n",
    "        except AttributeError:\n",
    "            self.value = value\n",
    "    def __delete__(self, instance):\n",
    "        print('__delete__')"
   ]
  },
  {
   "cell_type": "code",
   "execution_count": 45,
   "metadata": {},
   "outputs": [],
   "source": [
    "class A:\n",
    "    attr = DataDescriptor()"
   ]
  },
  {
   "cell_type": "code",
   "execution_count": 55,
   "metadata": {},
   "outputs": [
    {
     "name": "stdout",
     "output_type": "stream",
     "text": [
      "__get__\n",
      "__set__\n",
      "__get__\n",
      "__get__\n"
     ]
    },
    {
     "data": {
      "text/plain": [
       "True"
      ]
     },
     "execution_count": 55,
     "metadata": {},
     "output_type": "execute_result"
    }
   ],
   "source": [
    "a = A()\n",
    "a.attr\n",
    "a.attr = 'hello'\n",
    "a.attr == type(a).__dict__['attr'].__get__(a, type(a))"
   ]
  },
  {
   "cell_type": "code",
   "execution_count": 48,
   "metadata": {},
   "outputs": [
    {
     "name": "stdout",
     "output_type": "stream",
     "text": [
      "__get__\n",
      "__get__\n"
     ]
    },
    {
     "data": {
      "text/plain": [
       "0"
      ]
     },
     "execution_count": 48,
     "metadata": {},
     "output_type": "execute_result"
    }
   ],
   "source": [
    "A.attr\n",
    "A.__dict__['attr'].__get__(None, A)"
   ]
  },
  {
   "cell_type": "code",
   "execution_count": 50,
   "metadata": {},
   "outputs": [
    {
     "data": {
      "text/plain": [
       "mappingproxy({'__module__': '__main__',\n",
       "              'attr': <__main__.DataDescriptor at 0x7f74a9975080>,\n",
       "              '__dict__': <attribute '__dict__' of 'A' objects>,\n",
       "              '__weakref__': <attribute '__weakref__' of 'A' objects>,\n",
       "              '__doc__': None})"
      ]
     },
     "execution_count": 50,
     "metadata": {},
     "output_type": "execute_result"
    }
   ],
   "source": [
    "A.__dict__"
   ]
  },
  {
   "cell_type": "code",
   "execution_count": 56,
   "metadata": {},
   "outputs": [],
   "source": [
    "try:\n",
    "    A.__dict__['a'] = 5\n",
    "except TypeError:\n",
    "    pass"
   ]
  },
  {
   "cell_type": "code",
   "execution_count": 58,
   "metadata": {},
   "outputs": [
    {
     "data": {
      "text/plain": [
       "{'x': 100}"
      ]
     },
     "execution_count": 58,
     "metadata": {},
     "output_type": "execute_result"
    }
   ],
   "source": [
    "a.x = 100\n",
    "a.__dict__"
   ]
  },
  {
   "cell_type": "code",
   "execution_count": 61,
   "metadata": {},
   "outputs": [],
   "source": [
    "class Overridden(object):\n",
    "    attr = DataDescriptor()\n",
    "    def __getattribute__(self, name):\n",
    "        ''' Always called when accessing an attribute. '''\n",
    "        print('no')"
   ]
  },
  {
   "cell_type": "code",
   "execution_count": 68,
   "metadata": {},
   "outputs": [
    {
     "name": "stdout",
     "output_type": "stream",
     "text": [
      "no\n"
     ]
    }
   ],
   "source": [
    "o = Overridden()\n",
    "o.x = 10\n",
    "o.attr"
   ]
  },
  {
   "cell_type": "code",
   "execution_count": 85,
   "metadata": {},
   "outputs": [],
   "source": [
    "def func():\n",
    "    pass\n",
    "func.__get__\n",
    "func.x = 10\n",
    "func.__gt__?"
   ]
  },
  {
   "cell_type": "code",
   "execution_count": 72,
   "metadata": {},
   "outputs": [
    {
     "data": {
      "text/plain": [
       "<bound method C.method of <__main__.C object at 0x7f74a99024a8>>"
      ]
     },
     "execution_count": 72,
     "metadata": {},
     "output_type": "execute_result"
    }
   ],
   "source": [
    "class C(object):\n",
    "    def method():\n",
    "        pass\n",
    "c = C()\n",
    "c.method"
   ]
  },
  {
   "cell_type": "code",
   "execution_count": 74,
   "metadata": {},
   "outputs": [
    {
     "data": {
      "text/plain": [
       "<function __main__.C.method()>"
      ]
     },
     "execution_count": 74,
     "metadata": {},
     "output_type": "execute_result"
    }
   ],
   "source": [
    "C.method"
   ]
  },
  {
   "cell_type": "code",
   "execution_count": 86,
   "metadata": {},
   "outputs": [
    {
     "data": {
      "text/plain": [
       "<bound method C.method of <__main__.C object at 0x7f74a99024a8>>"
      ]
     },
     "execution_count": 86,
     "metadata": {},
     "output_type": "execute_result"
    }
   ],
   "source": [
    "type(c).__dict__['method'].__get__(c, type(c))"
   ]
  },
  {
   "cell_type": "code",
   "execution_count": 93,
   "metadata": {},
   "outputs": [
    {
     "name": "stdout",
     "output_type": "stream",
     "text": [
      "10\n",
      "10\n",
      "100\n",
      "10\n",
      "{<__main__.StoreInstance object at 0x7f74a94ea9e8>: 100}\n",
      "{}\n"
     ]
    }
   ],
   "source": [
    "from weakref import WeakKeyDictionary\n",
    "class DescriptorWeakKeyDictStorage(object):\n",
    "    _hidden = WeakKeyDictionary()\n",
    "    def __init__(self, default=None):\n",
    "        self.default = default\n",
    "        \n",
    "    def __get__(self, instance, owner):\n",
    "        return DescriptorWeakKeyDictStorage._hidden.get(\n",
    "            instance, self.default)\n",
    "    def __set__(self, instance, value):\n",
    "        DescriptorWeakKeyDictStorage._hidden[instance] = value\n",
    "class StoreInstance(object):\n",
    "    attr = DescriptorWeakKeyDictStorage(10)\n",
    "store1 = StoreInstance()\n",
    "store2 = StoreInstance()\n",
    "print(store1.attr)\n",
    "print(store2.attr)\n",
    "store1.attr = 100\n",
    "print(store1.attr)\n",
    "print(store2.attr)\n",
    "\n",
    "print(dict(DescriptorWeakKeyDictStorage.__dict__['_hidden']))\n",
    "del store1\n",
    "print(dict(DescriptorWeakKeyDictStorage.__dict__['_hidden']))"
   ]
  },
  {
   "cell_type": "code",
   "execution_count": 95,
   "metadata": {},
   "outputs": [
    {
     "name": "stdout",
     "output_type": "stream",
     "text": [
      "10\n",
      "10\n",
      "100\n",
      "10\n",
      "{<__main__.StoreInstance object at 0x7f74a94eabe0>: 100}\n",
      "{<__main__.StoreInstance object at 0x7f74a94eabe0>: 100}\n"
     ]
    }
   ],
   "source": [
    "class DescriptorDictStorage(object):\n",
    "    _hidden = {}\n",
    "    def __init__(self, default=None):\n",
    "        self.default = default\n",
    "        \n",
    "    def __get__(self, instance, owner):\n",
    "        return DescriptorDictStorage._hidden.get(\n",
    "            instance, self.default)\n",
    "    def __set__(self, instance, value):\n",
    "        DescriptorDictStorage._hidden[instance] = value\n",
    "class StoreInstance(object):\n",
    "    attr = DescriptorDictStorage(10)\n",
    "store1 = StoreInstance()\n",
    "store2 = StoreInstance()\n",
    "print(store1.attr)\n",
    "print(store2.attr)\n",
    "store1.attr = 100\n",
    "print(store1.attr)\n",
    "print(store2.attr)\n",
    "\n",
    "print(dict(DescriptorDictStorage.__dict__['_hidden']))\n",
    "del store1\n",
    "print(dict(DescriptorDictStorage.__dict__['_hidden']))"
   ]
  },
  {
   "cell_type": "code",
   "execution_count": 96,
   "metadata": {},
   "outputs": [],
   "source": [
    "from weakref import WeakKeyDictionary\n",
    "class Checked(object):\n",
    "    _hidden = WeakKeyDictionary()\n",
    "    def __init__(self, checker=None, default=None):\n",
    "        if checker:\n",
    "            checker(default)\n",
    "        self.checker = checker\n",
    "        self.default = default\n",
    "    def __get__(self, instance, owner):\n",
    "        return Checked._hidden.get(instance, self.default)\n",
    "    def __set__(self, instace, value):\n",
    "        if self.checker:\n",
    "            self.checker(value)\n",
    "        Checked._hidden[instance] = value\n",
    "\n",
    "def is_int(value):\n",
    "    if not isinstance(value, int):\n",
    "        raise ValueError('Must be int')\n",
    "\n",
    "class Restricted(object):\n",
    "    attr1 = Checked(checker=is_int, default=10)\n",
    "    attr2 = Checked(default=2.5)\n",
    "    try:\n",
    "        attr3 = Checked(checker=is_int, default=12.5)\n",
    "    except ValueError:\n",
    "        attr3 = Checked(checker=is_int, default=12)"
   ]
  },
  {
   "cell_type": "code",
   "execution_count": null,
   "metadata": {
    "collapsed": true
   },
   "outputs": [],
   "source": [
    "class Immutable:\n",
    "    def __init__(self, default):\n",
    "        self.default = default\n",
    "    \n",
    "    def __get__(self, instance, owner):\n",
    "        return self.default\n",
    "    \n",
    "    def __set__(self, instance, value):\n",
    "        self.value = value"
   ]
  },
  {
   "cell_type": "code",
   "execution_count": 1,
   "metadata": {},
   "outputs": [
    {
     "ename": "SyntaxError",
     "evalue": "invalid syntax (<ipython-input-1-3e803a8c91ec>, line 1)",
     "output_type": "error",
     "traceback": [
      "\u001b[0;36m  File \u001b[0;32m\"<ipython-input-1-3e803a8c91ec>\"\u001b[0;36m, line \u001b[0;32m1\u001b[0m\n\u001b[0;31m    [**{3: 3}]\u001b[0m\n\u001b[0m      ^\u001b[0m\n\u001b[0;31mSyntaxError\u001b[0m\u001b[0;31m:\u001b[0m invalid syntax\n"
     ]
    }
   ],
   "source": [
    "dict()"
   ]
  }
 ],
 "metadata": {
  "kernelspec": {
   "display_name": "Python 3",
   "language": "python",
   "name": "python3"
  },
  "language_info": {
   "codemirror_mode": {
    "name": "ipython",
    "version": 3
   },
   "file_extension": ".py",
   "mimetype": "text/x-python",
   "name": "python",
   "nbconvert_exporter": "python",
   "pygments_lexer": "ipython3",
   "version": "3.8.1"
  }
 },
 "nbformat": 4,
 "nbformat_minor": 2
}
