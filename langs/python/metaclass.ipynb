{
 "cells": [
  {
   "cell_type": "code",
   "execution_count": 3,
   "metadata": {},
   "outputs": [
    {
     "data": {
      "text/plain": [
       "(object,)"
      ]
     },
     "execution_count": 3,
     "metadata": {},
     "output_type": "execute_result"
    }
   ],
   "source": [
    "class A(object):\n",
    "    pass\n",
    "\n",
    "A.__bases__"
   ]
  },
  {
   "cell_type": "code",
   "execution_count": 5,
   "metadata": {},
   "outputs": [
    {
     "data": {
      "text/plain": [
       "(object,)"
      ]
     },
     "execution_count": 5,
     "metadata": {},
     "output_type": "execute_result"
    }
   ],
   "source": [
    "class A(metaclass=type):\n",
    "    pass\n",
    "A.__bases__"
   ]
  },
  {
   "cell_type": "code",
   "execution_count": 6,
   "metadata": {},
   "outputs": [],
   "source": [
    "class C(object):\n",
    "    attr = 10\n",
    "C = type('C', (object,), {'attr': 10})"
   ]
  },
  {
   "cell_type": "code",
   "execution_count": 9,
   "metadata": {},
   "outputs": [],
   "source": [
    "def __init__(self, value):\n",
    "    self.value = value\n",
    "def add(self, value):\n",
    "    self.value += value\n",
    "C = type('C', (object,), {'attr': 10, \n",
    "                          '__init__': __init__, \n",
    "                          'add': add})"
   ]
  },
  {
   "cell_type": "code",
   "execution_count": 12,
   "metadata": {},
   "outputs": [],
   "source": [
    "c = C(10)\n",
    "# dir(c)"
   ]
  },
  {
   "cell_type": "code",
   "execution_count": 20,
   "metadata": {},
   "outputs": [],
   "source": [
    "class MyMeta(type):\n",
    "    def __str__(cls):\n",
    "        return 'hello'\n",
    "class A(metaclass=MyMeta):\n",
    "    pass"
   ]
  },
  {
   "cell_type": "code",
   "execution_count": 21,
   "metadata": {},
   "outputs": [
    {
     "data": {
      "text/plain": [
       "'hello'"
      ]
     },
     "execution_count": 21,
     "metadata": {},
     "output_type": "execute_result"
    }
   ],
   "source": [
    "str(A)"
   ]
  },
  {
   "cell_type": "code",
   "execution_count": 27,
   "metadata": {},
   "outputs": [],
   "source": [
    "class MyMeta(type):\n",
    "    def __new__(meta, name, bases, cdict):\n",
    "        print(meta)\n",
    "        print(name)\n",
    "        print(bases)\n",
    "        print(cdict)\n",
    "        return super().__new__(meta, name, bases, cdict)"
   ]
  },
  {
   "cell_type": "code",
   "execution_count": 32,
   "metadata": {},
   "outputs": [
    {
     "name": "stdout",
     "output_type": "stream",
     "text": [
      "<class '__main__.MyMeta'>\n",
      "New\n",
      "(<class 'object'>,)\n",
      "{'__module__': '__main__', '__qualname__': 'New'}\n"
     ]
    }
   ],
   "source": [
    "class New(object, metaclass=MyMeta):\n",
    "    pass"
   ]
  },
  {
   "cell_type": "code",
   "execution_count": 29,
   "metadata": {},
   "outputs": [],
   "source": [
    "class MyMeta(type):\n",
    "    def __init__(cls, name, bases, cdict):\n",
    "        print(cls)\n",
    "        print(name)\n",
    "        print(bases)\n",
    "        print(cdict)\n",
    "        super().__init__(name, bases, cdict)"
   ]
  },
  {
   "cell_type": "code",
   "execution_count": 33,
   "metadata": {},
   "outputs": [
    {
     "name": "stdout",
     "output_type": "stream",
     "text": [
      "<class '__main__.MyMeta'>\n",
      "New\n",
      "(<class 'object'>,)\n",
      "{'__module__': '__main__', '__qualname__': 'New'}\n"
     ]
    }
   ],
   "source": [
    "class New(object, metaclass=MyMeta):\n",
    "    pass"
   ]
  },
  {
   "cell_type": "code",
   "execution_count": 43,
   "metadata": {},
   "outputs": [],
   "source": [
    "class B(object):\n",
    "    def __new__(cls, value):\n",
    "        return super().__new__(cls)\n",
    "    def __init__(self, value):\n",
    "        self.value = value"
   ]
  },
  {
   "cell_type": "code",
   "execution_count": 44,
   "metadata": {},
   "outputs": [],
   "source": [
    "b = B(10)"
   ]
  },
  {
   "cell_type": "code",
   "execution_count": 46,
   "metadata": {},
   "outputs": [
    {
     "data": {
      "text/plain": [
       "10"
      ]
     },
     "execution_count": 46,
     "metadata": {},
     "output_type": "execute_result"
    }
   ],
   "source": [
    "def decorator(cls):\n",
    "    cls.attr = 10\n",
    "    return cls\n",
    "@decorator\n",
    "class A(object):\n",
    "    pass\n",
    "A.__dict__['attr']"
   ]
  },
  {
   "cell_type": "code",
   "execution_count": 50,
   "metadata": {},
   "outputs": [],
   "source": [
    "class S(object):\n",
    "    __slots__ = ['a', 'b']\n",
    "s = S()\n",
    "s.a = 10\n",
    "# s.c = 10"
   ]
  },
  {
   "cell_type": "code",
   "execution_count": 52,
   "metadata": {},
   "outputs": [],
   "source": [
    "# Does not work\n",
    "# class MyClass(object):\n",
    "#     __slots__ = ['a', 'b']\n",
    "#     a = 10\n",
    "#     b = 20\n",
    "class MyClass(object):\n",
    "    __slots__ = ['__a', '__b']\n",
    "    a = 10\n",
    "    b = 10"
   ]
  },
  {
   "cell_type": "code",
   "execution_count": 70,
   "metadata": {},
   "outputs": [],
   "source": [
    "def with_metaclass(meta, *bases):\n",
    "    class metaclass(meta):\n",
    "        __call__ = type.__call__\n",
    "        __init__ = type.__init__\n",
    "        def __new__(cls, name, this_bases, d):\n",
    "            if this_bases is None:\n",
    "                return type.__new__(cls, name, (), d)\n",
    "            return meta(name, this_bases, d)\n",
    "    return metaclass('temp_class', None, {})\n",
    "\n",
    "class TypeDescriptor(object):\n",
    "    def __init__(self, data_type, default_value=None):\n",
    "        self.name = None\n",
    "        self.data_type = data_type\n",
    "        if default_value:\n",
    "            self.default_value = default_value\n",
    "        else:\n",
    "            self.default_value = data_type\n",
    "    def __get__(self, instance, cls):\n",
    "        return getattr(instance, self.name)\n",
    "    def __set__(self, instance, value):\n",
    "        if not isinstance(value, self.data_type):\n",
    "            raise TypeError\n",
    "        setattr(instance, self.name, value)\n",
    "        \n",
    "class TypeProtected(type):\n",
    "    def __new__(meta, name, bases, cdict):\n",
    "        slots = []\n",
    "        for key, value in cdict.items():\n",
    "            if isinstance(value, TypeDescriptor):\n",
    "                value.name = '__' + key\n",
    "                slots.append(value.name)\n",
    "        cdict['__slots__'] = slots\n",
    "        return super().__new__(meta, name, bases, cdict)"
   ]
  },
  {
   "cell_type": "code",
   "execution_count": 74,
   "metadata": {},
   "outputs": [],
   "source": [
    "# class Typed(with_metaclass(TypeProtected)):\n",
    "#     pass\n",
    "\n",
    "# class MyClass(Typed):\n",
    "#     attr1 = TypeDescriptor(int, 1)\n",
    "#     attr2 = TypeDescriptor(float, 0.2)"
   ]
  },
  {
   "cell_type": "code",
   "execution_count": 85,
   "metadata": {},
   "outputs": [
    {
     "name": "stdout",
     "output_type": "stream",
     "text": [
      "{'func': <function func at 0x7fda04157488>}\n",
      "{'kwargs': {}, 'args': (), 'func': <function func at 0x7fda04157488>}\n",
      "hello\n"
     ]
    }
   ],
   "source": [
    "def wrapper(func):\n",
    "    print(locals())\n",
    "    def inner(*args, **kwargs):\n",
    "        print(locals())\n",
    "        return func()\n",
    "    return inner\n",
    "\n",
    "@wrapper\n",
    "def func(*args, **kwargs):\n",
    "    print('hello')\n",
    "\n",
    "func()"
   ]
  }
 ],
 "metadata": {
  "kernelspec": {
   "display_name": "Python 3",
   "language": "python",
   "name": "python3"
  },
  "language_info": {
   "codemirror_mode": {
    "name": "ipython",
    "version": 3
   },
   "file_extension": ".py",
   "mimetype": "text/x-python",
   "name": "python",
   "nbconvert_exporter": "python",
   "pygments_lexer": "ipython3",
   "version": "3.6.3"
  }
 },
 "nbformat": 4,
 "nbformat_minor": 2
}
