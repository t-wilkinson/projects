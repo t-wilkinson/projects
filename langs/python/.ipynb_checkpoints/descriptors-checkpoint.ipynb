{
 "cells": [
  {
   "cell_type": "code",
   "execution_count": 10,
   "metadata": {},
   "outputs": [],
   "source": [
    "class Square(object):\n",
    "    def __init__(self, side):\n",
    "        self.side = side\n",
    "    def aget(self):\n",
    "        return self.side ** 2\n",
    "    def aset(self, value):\n",
    "        print('Cannot set value.')\n",
    "    def adel(self):\n",
    "        print('Cannot del value.')\n",
    "    area = property(aget, aset, adel, doc='Area of square')"
   ]
  },
  {
   "cell_type": "code",
   "execution_count": 3,
   "metadata": {},
   "outputs": [],
   "source": [
    "square = Square(4)"
   ]
  },
  {
   "cell_type": "code",
   "execution_count": 9,
   "metadata": {},
   "outputs": [
    {
     "data": {
      "text/plain": [
       "16"
      ]
     },
     "execution_count": 9,
     "metadata": {},
     "output_type": "execute_result"
    }
   ],
   "source": [
    "square.area"
   ]
  },
  {
   "cell_type": "code",
   "execution_count": 26,
   "metadata": {},
   "outputs": [],
   "source": [
    "class Square(object):\n",
    "    def __init__(self, side):\n",
    "        self.side = side\n",
    "    @property\n",
    "    def area(self):\n",
    "        ''' Calculate area'''\n",
    "        return self.side * self.side\n",
    "    @area.setter\n",
    "    def area(self, value):\n",
    "        print('cannot set value')\n",
    "    @area.deleter\n",
    "    def area(self):\n",
    "        print('cannot delete')"
   ]
  },
  {
   "cell_type": "code",
   "execution_count": 27,
   "metadata": {},
   "outputs": [],
   "source": [
    "def nested_property(func):\n",
    "    \"\"\" Simpler function definition \"\"\"\n",
    "    names = func()\n",
    "    names['doc'] = func.__doc__\n",
    "    return property(**names)\n",
    "    \n",
    "class Square(object):\n",
    "    def __init__(self, side):\n",
    "        self.side = side\n",
    "        \n",
    "    @nested_property\n",
    "    def area():\n",
    "        ''' property for area '''\n",
    "        def fget(self):\n",
    "            return self.side * self.side\n",
    "        def fset(self, value):\n",
    "            print('cannot set value.')\n",
    "        def fdel(self):\n",
    "            print('cannot del value')\n",
    "            \n",
    "        return locals()"
   ]
  },
  {
   "cell_type": "code",
   "execution_count": 32,
   "metadata": {},
   "outputs": [
    {
     "data": {
      "text/plain": [
       "16"
      ]
     },
     "execution_count": 32,
     "metadata": {},
     "output_type": "execute_result"
    }
   ],
   "source": [
    "s = Square(4)\n",
    "s.area"
   ]
  },
  {
   "cell_type": "code",
   "execution_count": 33,
   "metadata": {},
   "outputs": [],
   "source": [
    "class DataDescriptor(object):\n",
    "    def __init__(self):\n",
    "        self.value = 0\n",
    "    def __get__(self, instance, cls):\n",
    "        print('__get__')\n",
    "        return self.value\n",
    "    def __set__(self, instace, value):\n",
    "        print('__set__')\n",
    "        try:\n",
    "            self.value = value.upper()\n",
    "        except AttributeError:\n",
    "            self.value = value\n",
    "    def __delete__(self, instance):\n",
    "        print('__delete__')"
   ]
  },
  {
   "cell_type": "code",
   "execution_count": 45,
   "metadata": {},
   "outputs": [],
   "source": [
    "class A:\n",
    "    attr = DataDescriptor()"
   ]
  },
  {
   "cell_type": "code",
   "execution_count": 55,
   "metadata": {},
   "outputs": [
    {
     "name": "stdout",
     "output_type": "stream",
     "text": [
      "__get__\n",
      "__set__\n",
      "__get__\n",
      "__get__\n"
     ]
    },
    {
     "data": {
      "text/plain": [
       "True"
      ]
     },
     "execution_count": 55,
     "metadata": {},
     "output_type": "execute_result"
    }
   ],
   "source": [
    "a = A()\n",
    "a.attr\n",
    "a.attr = 'hello'\n",
    "a.attr == type(a).__dict__['attr'].__get__(a, type(a))"
   ]
  },
  {
   "cell_type": "code",
   "execution_count": 48,
   "metadata": {},
   "outputs": [
    {
     "name": "stdout",
     "output_type": "stream",
     "text": [
      "__get__\n",
      "__get__\n"
     ]
    },
    {
     "data": {
      "text/plain": [
       "0"
      ]
     },
     "execution_count": 48,
     "metadata": {},
     "output_type": "execute_result"
    }
   ],
   "source": [
    "A.attr\n",
    "A.__dict__['attr'].__get__(None, A)"
   ]
  },
  {
   "cell_type": "code",
   "execution_count": 50,
   "metadata": {},
   "outputs": [
    {
     "data": {
      "text/plain": [
       "mappingproxy({'__module__': '__main__',\n",
       "              'attr': <__main__.DataDescriptor at 0x7f74a9975080>,\n",
       "              '__dict__': <attribute '__dict__' of 'A' objects>,\n",
       "              '__weakref__': <attribute '__weakref__' of 'A' objects>,\n",
       "              '__doc__': None})"
      ]
     },
     "execution_count": 50,
     "metadata": {},
     "output_type": "execute_result"
    }
   ],
   "source": [
    "A.__dict__"
   ]
  },
  {
   "cell_type": "code",
   "execution_count": 52,
   "metadata": {},
   "outputs": [],
   "source": [
    "try:\n",
    "    A.__dict__['a'] = 5\n",
    "except TypeError:\n",
    "    pass"
   ]
  }
 ],
 "metadata": {
  "kernelspec": {
   "display_name": "Python 3",
   "language": "python",
   "name": "python3"
  },
  "language_info": {
   "codemirror_mode": {
    "name": "ipython",
    "version": 3
   },
   "file_extension": ".py",
   "mimetype": "text/x-python",
   "name": "python",
   "nbconvert_exporter": "python",
   "pygments_lexer": "ipython3",
   "version": "3.6.3"
  }
 },
 "nbformat": 4,
 "nbformat_minor": 2
}
